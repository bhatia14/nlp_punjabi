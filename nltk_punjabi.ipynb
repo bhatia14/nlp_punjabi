{
 "cells": [
  {
   "cell_type": "code",
   "execution_count": 2,
   "metadata": {
    "collapsed": true
   },
   "outputs": [],
   "source": [
    "from nltk.corpus import IndianCorpusReader"
   ]
  },
  {
   "cell_type": "code",
   "execution_count": 3,
   "metadata": {},
   "outputs": [],
   "source": [
    "corpus_punjabi = IndianCorpusReader(\"./\", \"my_punjabi.pos\")"
   ]
  },
  {
   "cell_type": "code",
   "execution_count": 4,
   "metadata": {},
   "outputs": [
    {
     "data": {
      "text/plain": [
       "['ਠਠੀ\\\\N',\n",
       " 'ਖਾਰਾ\\\\N',\n",
       " 'ਪਿੰਡ\\\\N',\n",
       " 'ਅੰਮ੍ਰਿਤਸਰ\\\\N',\n",
       " 'ਤੋਂ\\\\PSP',\n",
       " 'ਨੇੜੇ\\\\RB',\n",
       " 'ਹੀ\\\\RP',\n",
       " 'ਸੀ\\\\V',\n",
       " '|\\\\N',\n",
       " 'ਪੱਕੀ\\\\JJ',\n",
       " 'ਸੜਕ\\\\N',\n",
       " 'ਤੇ\\\\CC',\n",
       " '।\\\\RD',\n",
       " 'ਤੇ\\\\CC',\n",
       " 'ਜਿਸ\\\\PR',\n",
       " 'ਮੌਜ\\\\N',\n",
       " 'ਵਿਚ\\\\PSP',\n",
       " 'ਮਾਨ\\\\N',\n",
       " 'ਸਿੰਘ\\\\N',\n",
       " 'ਜਾ\\\\V']"
      ]
     },
     "execution_count": 4,
     "metadata": {},
     "output_type": "execute_result"
    }
   ],
   "source": [
    "corpus_punjabi.words()[:20]"
   ]
  },
  {
   "cell_type": "code",
   "execution_count": null,
   "metadata": {
    "collapsed": true
   },
   "outputs": [],
   "source": []
  }
 ],
 "metadata": {
  "kernelspec": {
   "display_name": "Python 3",
   "language": "python",
   "name": "python3"
  },
  "language_info": {
   "codemirror_mode": {
    "name": "ipython",
    "version": 3
   },
   "file_extension": ".py",
   "mimetype": "text/x-python",
   "name": "python",
   "nbconvert_exporter": "python",
   "pygments_lexer": "ipython3",
   "version": "3.6.1"
  }
 },
 "nbformat": 4,
 "nbformat_minor": 2
}
